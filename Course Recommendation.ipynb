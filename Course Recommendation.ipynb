{
 "cells": [
  {
   "cell_type": "code",
   "execution_count": null,
   "id": "82a932c1-94fc-4690-acd5-e9e012fce299",
   "metadata": {},
   "outputs": [],
   "source": [
    "import pandas as pd\n",
    "from sklearn.preprocessing import LabelEncoder\n",
    "from sklearn.neighbors import KNeighborsClassifier\n",
    "\n",
    "df = pd.read_csv('youth_skills.csv')\n",
    "df['Age'] = pd.to_numeric(df['Age'], errors='coerce')\n",
    "df = df.dropna(subset=['Age'])\n",
    "df['Age'] = df['Age'].astype(int) \n",
    "\n",
    "edu1 = LabelEncoder()\n",
    "skill1 = LabelEncoder()\n",
    "loc1 = LabelEncoder()\n",
    "\n",
    "df['Education_enc'] = edu1.fit_transform(df['Education'])\n",
    "df['Skill_enc'] = skill1.fit_transform(df['Skill'])\n",
    "df['Location_enc'] = loc1.fit_transform(df['Location'])\n",
    "\n",
    "# Features & Target\n",
    "X = df[['Age', 'Education_enc', 'Skill_enc', 'Location_enc']]\n",
    "y = df['Recommended_Path']\n",
    "\n",
    "knn = KNeighborsClassifier(n_neighbors=3)\n",
    "knn.fit(X, y)\n",
    "\n",
    "age = float(input('Enter your age: '))\n",
    "edu = input(f'Select education ({\", \".join(edu1.classes_)}): ')\n",
    "skill = input(f'Select skill ({\", \".join(skill1.classes_)}): ')\n",
    "loc = input(f'Enter location ({\", \".join(loc1.classes_)}): ')\n",
    "\n",
    "user_data = [\n",
    "    age,\n",
    "    le_edu.transform([edu])[0] if edu in edu1.classes_ else 0,\n",
    "    le_skill.transform([skill])[0] if skill in skill1.classes_ else 0,\n",
    "    le_loc.transform([loc])[0] if loc in loc1.classes_ else 0,\n",
    "]\n",
    "\n",
    "user_df = pd.DataFrame([user_data], columns=['Age', 'Education_enc', 'Skill_enc', 'Location_enc'])\n",
    "recommendation = knn.predict(user_df)\n",
    "print('\\nRecommended Skill/Career Path:', recommendation[0])\n",
    "\n",
    "neighbor_ids = knn.kneighbors(user_df, return_distance=False)[0]\n",
    "print('\\nSimilar profiles & their choices:')\n",
    "print(df.iloc[neighbor_ids][['Age', 'Education', 'Skill', 'Location', 'Recommended_Path']])\n"
   ]
  },
  {
   "cell_type": "code",
   "execution_count": null,
   "id": "1612ada5-67cd-4b2d-aea7-f39859542df9",
   "metadata": {},
   "outputs": [],
   "source": []
  }
 ],
 "metadata": {
  "kernelspec": {
   "display_name": "Python [conda env:base] *",
   "language": "python",
   "name": "conda-base-py"
  },
  "language_info": {
   "codemirror_mode": {
    "name": "ipython",
    "version": 3
   },
   "file_extension": ".py",
   "mimetype": "text/x-python",
   "name": "python",
   "nbconvert_exporter": "python",
   "pygments_lexer": "ipython3",
   "version": "3.13.5"
  }
 },
 "nbformat": 4,
 "nbformat_minor": 5
}
